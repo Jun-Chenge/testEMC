{
 "cells": [
  {
   "cell_type": "code",
   "execution_count": 2,
   "metadata": {},
   "outputs": [
    {
     "name": "stdout",
     "output_type": "stream",
     "text": [
      "initializing ocelot...\n",
      "\n",
      "WARNING: esther_execute could not be imported. This is most probably due to Esther not being installed or not found. Expect RunTimeErrors when attempting to run the EstherPhotonMatterInteractor.backengine().\n"
     ]
    }
   ],
   "source": [
    "%config InlineBackend.figure_formats = ['svg']\n",
    "\n",
    "import os,shutil\n",
    "import h5py\n",
    "from h5glance import H5Glance\n",
    "import matplotlib.pyplot as plt\n",
    "from matplotlib.colors import LogNorm\n",
    "import numpy as np\n",
    "\n",
    "# Helpers\n",
    "from SimEx.Utilities.Units import meter, electronvolt, joule, radian\n",
    "\n",
    "# PMI\n",
    "from SimEx.Calculators.XMDYNDemoPhotonMatterInteractor import XMDYNDemoPhotonMatterInteractor\n",
    "\n",
    "# Simple Beam Parameters\n",
    "from SimEx.Parameters.PhotonBeamParameters import PhotonBeamParameters\n",
    "\n",
    "# Diffraction\n",
    "from SimEx.Parameters.DetectorGeometry import DetectorGeometry, DetectorPanel\n",
    "from SimEx.Parameters.SingFELPhotonDiffractorParameters import SingFELPhotonDiffractorParameters\n",
    "from SimEx.Calculators.SingFELPhotonDiffractor import SingFELPhotonDiffractor\n",
    "\n",
    "# Analysis\n",
    "from SimEx.Analysis.XFELPhotonAnalysis import XFELPhotonAnalysis\n",
    "from SimEx.Analysis.DiffractionAnalysis import DiffractionAnalysis, plotResolutionRings, azimuthalIntegration"
   ]
  },
  {
   "cell_type": "code",
   "execution_count": 3,
   "metadata": {},
   "outputs": [],
   "source": [
    "p0 = DetectorPanel(ranges={\n",
    "    'fast_scan_min': 0,\n",
    "    'fast_scan_max': 109,\n",
    "    'slow_scan_min': 0,\n",
    "    'slow_scan_max': 109\n",
    "},\n",
    "                   pixel_size=1000e-6 * meter,\n",
    "                   photon_response=1.0,\n",
    "                   distance_from_interaction_plane=0.25 * meter,\n",
    "                   corners={\n",
    "                       'x': 54.5,\n",
    "                       'y': 54.5\n",
    "                   },\n",
    "                   fast_scan_xyz='1.0x',\n",
    "                   slow_scan_xyz='1.0y')\n",
    "\n",
    "detector_geometry = DetectorGeometry(panels=[p0])\n",
    "detector_geometry.serialize('diffr.geom')"
   ]
  }
 ],
 "metadata": {
  "kernelspec": {
   "display_name": "Python 3",
   "language": "python",
   "name": "python3"
  },
  "language_info": {
   "codemirror_mode": {
    "name": "ipython",
    "version": 3
   },
   "file_extension": ".py",
   "mimetype": "text/x-python",
   "name": "python",
   "nbconvert_exporter": "python",
   "pygments_lexer": "ipython3",
   "version": "3.6.7"
  }
 },
 "nbformat": 4,
 "nbformat_minor": 2
}
