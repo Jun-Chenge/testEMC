{
 "cells": [
  {
   "cell_type": "code",
   "execution_count": 32,
   "metadata": {},
   "outputs": [],
   "source": [
    "import os,shutil\n",
    "import h5py\n",
    "from h5glance import H5Glance\n",
    "import matplotlib.pyplot as plt\n",
    "\n",
    "# Helpers\n",
    "from SimEx.Utilities.Units import meter, electronvolt, joule, radian\n",
    "\n",
    "# PMI\n",
    "from SimEx.Calculators.XMDYNDemoPhotonMatterInteractor import XMDYNDemoPhotonMatterInteractor\n",
    "\n",
    "# Simple Beam Parameters\n",
    "from SimEx.Parameters.PhotonBeamParameters import PhotonBeamParameters\n",
    "\n",
    "# Diffraction\n",
    "from SimEx.Parameters.DetectorGeometry import DetectorGeometry, DetectorPanel\n",
    "from SimEx.Parameters.SingFELPhotonDiffractorParameters import SingFELPhotonDiffractorParameters\n",
    "from SimEx.Calculators.SingFELPhotonDiffractor import SingFELPhotonDiffractor\n",
    "\n",
    "# Analysis\n",
    "from SimEx.Analysis.XFELPhotonAnalysis import XFELPhotonAnalysis\n",
    "from SimEx.Analysis.DiffractionAnalysis import DiffractionAnalysis\n",
    "\n",
    "import matplotlib.colors as colors"
   ]
  },
  {
   "cell_type": "code",
   "execution_count": 35,
   "metadata": {},
   "outputs": [],
   "source": [
    "def cleanUp(out_path):\n",
    "    dirs_to_remove=[out_path]\n",
    "    files_to_remove=[out_path+'.h5']\n",
    "\n",
    "    for d in dirs_to_remove:\n",
    "        if os.path.isdir(d):\n",
    "            shutil.rmtree(d)\n",
    "    for f in files_to_remove:\n",
    "        if os.path.isfile(f):\n",
    "            os.remove(f)"
   ]
  },
  {
   "cell_type": "code",
   "execution_count": 33,
   "metadata": {},
   "outputs": [],
   "source": [
    "# Beam setup\n",
    "beam = PhotonBeamParameters(\n",
    "    photon_energy=4.96e3 * electronvolt,\n",
    "    beam_diameter_fwhm=1.0e-6 * meter,\n",
    "    pulse_energy=1.0e-3 * joule * 3900,\n",
    ")\n",
    "\n",
    "# Detector setup\n",
    "p0 = DetectorPanel(ranges={\n",
    "    'fast_scan_min': 0,\n",
    "    'fast_scan_max': 99,\n",
    "    'slow_scan_min': 0,\n",
    "    'slow_scan_max': 99\n",
    "},\n",
    "                   pixel_size=880e-6 * meter,\n",
    "                   photon_response=1.0,\n",
    "                   distance_from_interaction_plane=0.13 * meter,\n",
    "                   corners={\n",
    "                       'x': -49.5,\n",
    "                       'y': -49.5\n",
    "                   },\n",
    "                   fast_scan_xyz='1.0x',\n",
    "                   slow_scan_xyz='1.0y')\n",
    "\n",
    "detector_geometry = DetectorGeometry(panels=[p0])"
   ]
  },
  {
   "cell_type": "code",
   "execution_count": 34,
   "metadata": {},
   "outputs": [],
   "source": [
    "diffraction_parameters = SingFELPhotonDiffractorParameters(\n",
    "                                               uniform_rotation=False,\n",
    "                                               slice_interval=1,\n",
    "                                               number_of_slices=1,\n",
    "                                               number_of_diffraction_patterns=72,\n",
    "                                               detector_geometry=detector_geometry,\n",
    "                                               beam_parameters = beam,\n",
    "                                               forced_mpi_command='mpirun -np 36')"
   ]
  },
  {
   "cell_type": "code",
   "execution_count": 37,
   "metadata": {},
   "outputs": [],
   "source": [
    "out_path = \"diffr_100x100_50k\""
   ]
  },
  {
   "cell_type": "code",
   "execution_count": 36,
   "metadata": {},
   "outputs": [],
   "source": [
    "cleanUp(out_path)"
   ]
  },
  {
   "cell_type": "code",
   "execution_count": 38,
   "metadata": {},
   "outputs": [],
   "source": [
    "diffractor = SingFELPhotonDiffractor(parameters=diffraction_parameters,\n",
    "                                     input_path='3IYF.pdb',\n",
    "                                     output_path=out_path)"
   ]
  },
  {
   "cell_type": "code",
   "execution_count": 39,
   "metadata": {},
   "outputs": [
    {
     "name": "stdout",
     "output_type": "stream",
     "text": [
      "37.37063032761216 s\n"
     ]
    }
   ],
   "source": [
    "from timeit import default_timer as timer\n",
    "start = timer()\n",
    "\n",
    "diffractor.backengine()\n",
    "\n",
    "end = timer()\n",
    "print(end - start,'s') # Time in seconds"
   ]
  },
  {
   "cell_type": "code",
   "execution_count": 40,
   "metadata": {},
   "outputs": [],
   "source": [
    "# Link the .h5 output generated from mpirun together\n",
    "diffractor.saveH5()"
   ]
  }
 ],
 "metadata": {
  "kernelspec": {
   "display_name": "Python 3",
   "language": "python",
   "name": "python3"
  },
  "language_info": {
   "codemirror_mode": {
    "name": "ipython",
    "version": 3
   },
   "file_extension": ".py",
   "mimetype": "text/x-python",
   "name": "python",
   "nbconvert_exporter": "python",
   "pygments_lexer": "ipython3",
   "version": "3.6.7"
  }
 },
 "nbformat": 4,
 "nbformat_minor": 2
}
